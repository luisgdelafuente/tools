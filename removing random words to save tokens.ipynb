{
 "cells": [
  {
   "cell_type": "code",
   "execution_count": null,
   "metadata": {},
   "outputs": [],
   "source": [
    "#Use this little algo to remove x% of the words in order to save tokens for Generative AI. \n",
    "\n",
    "import random\n",
    "\n",
    "# captions_text = \"This is some example text that we will remove words from. It has many sentences and words to choose from.\"\n",
    "\n",
    "# Split the text into a list of words\n",
    "words = captions_text.split()\n",
    "\n",
    "# Calculate the number of words to remove \n",
    "num_words_to_remove = int(len(words) * 0.20)\n",
    "\n",
    "# Randomly select the words to remove\n",
    "words_to_remove = random.sample(words, num_words_to_remove)\n",
    "\n",
    "# Remove the selected words from the list of words\n",
    "words = [word for word in words if word not in words_to_remove]\n",
    "\n",
    "# Join the remaining words back into a single string\n",
    "captions_text = \" \".join(words)\n",
    "\n",
    "print(captions_text)"
   ]
  }
 ],
 "metadata": {
  "language_info": {
   "name": "python"
  },
  "orig_nbformat": 4
 },
 "nbformat": 4,
 "nbformat_minor": 2
}
