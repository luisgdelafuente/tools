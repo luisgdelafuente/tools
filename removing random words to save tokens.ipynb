{
 "cells": [
  {
   "cell_type": "code",
   "execution_count": null,
   "metadata": {},
   "outputs": [],
   "source": [
    "#Use this little algo to remove x% of the words in order to save tokens for Generative AI. \n",
    "\n",
    "import random\n",
    "\n",
    "# captions_text = \"This is some example text that we will remove words from. It has many sentences and words to choose from.\"\n",
    "\n",
    "# Split the text into a list of words\n",
    "words = captions_text.split()\n",
    "\n",
    "# Calculate the number of words to remove \n",
    "num_words_to_remove = int(len(words) * 0.20)\n",
    "\n",
    "# Randomly select the words to remove\n",
    "words_to_remove = random.sample(words, num_words_to_remove)\n",
    "\n",
    "# Remove the selected words from the list of words\n",
    "words = [word for word in words if word not in words_to_remove]\n",
    "\n",
    "# Join the remaining words back into a single string\n",
    "captions_text = \" \".join(words)\n",
    "\n",
    "print(captions_text)"
   ]
  }
 ],
 "metadata": {
  "kernelspec": {
   "display_name": "base",
   "language": "python",
   "name": "python3"
  },
  "language_info": {
   "name": "python",
   "version": "3.9.13"
  },
  "orig_nbformat": 4,
  "vscode": {
   "interpreter": {
    "hash": "83274c31c9221182fb1fe126cd0ae34f8001af217d374c7998aef38dd4f692b5"
   }
  }
 },
 "nbformat": 4,
 "nbformat_minor": 2
}
