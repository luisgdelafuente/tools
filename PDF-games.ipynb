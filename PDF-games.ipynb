{
 "cells": [
  {
   "cell_type": "code",
   "execution_count": 6,
   "metadata": {},
   "outputs": [
    {
     "name": "stdout",
     "output_type": "stream",
     "text": [
      "Transcription completed successfully.\n"
     ]
    }
   ],
   "source": [
    "# Transcribe a PDF file with PyPDF2 library\n",
    "\n",
    "import PyPDF2\n",
    "\n",
    "def pdf_to_txt(input_path, output_path):\n",
    "    with open(input_path, 'rb') as file:\n",
    "        pdf_reader = PyPDF2.PdfReader(file)\n",
    "        num_pages = len(pdf_reader.pages)\n",
    "\n",
    "        with open(output_path, 'w') as output_file:\n",
    "            for page_num in range(num_pages):\n",
    "                page = pdf_reader.pages[page_num]\n",
    "                text = page.extract_text()\n",
    "                output_file.write(text)\n",
    "\n",
    "    print('Transcription completed successfully.')\n",
    "\n",
    "# Example usage\n",
    "pdf_path = 'fia.pdf'\n",
    "txt_path = 'fiaoutput.txt'\n",
    "pdf_to_txt(pdf_path, txt_path)"
   ]
  }
 ],
 "metadata": {
  "kernelspec": {
   "display_name": "base",
   "language": "python",
   "name": "python3"
  },
  "language_info": {
   "codemirror_mode": {
    "name": "ipython",
    "version": 3
   },
   "file_extension": ".py",
   "mimetype": "text/x-python",
   "name": "python",
   "nbconvert_exporter": "python",
   "pygments_lexer": "ipython3",
   "version": "3.9.13"
  },
  "orig_nbformat": 4
 },
 "nbformat": 4,
 "nbformat_minor": 2
}
