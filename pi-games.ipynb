{
 "cells": [
  {
   "cell_type": "code",
   "execution_count": 2,
   "metadata": {},
   "outputs": [
    {
     "ename": "ModuleNotFoundError",
     "evalue": "No module named 'mpmath'",
     "output_type": "error",
     "traceback": [
      "\u001b[1;31m---------------------------------------------------------------------------\u001b[0m",
      "\u001b[1;31mModuleNotFoundError\u001b[0m                       Traceback (most recent call last)",
      "Cell \u001b[1;32mIn[2], line 4\u001b[0m\n\u001b[0;32m      1\u001b[0m \u001b[39m# Finding the position of a specific number inside pi\u001b[39;00m\n\u001b[0;32m      3\u001b[0m \u001b[39mimport\u001b[39;00m \u001b[39mmath\u001b[39;00m\n\u001b[1;32m----> 4\u001b[0m \u001b[39mimport\u001b[39;00m \u001b[39mmpmath\u001b[39;00m\n\u001b[0;32m      6\u001b[0m \u001b[39m# Set the number of digits to generate for pi\u001b[39;00m\n\u001b[0;32m      7\u001b[0m \u001b[39m# Will work fine up to 100m aprox \u001b[39;00m\n\u001b[0;32m      8\u001b[0m mpmath\u001b[39m.\u001b[39mmp\u001b[39m.\u001b[39mdps \u001b[39m=\u001b[39m \u001b[39m1000\u001b[39m\n",
      "\u001b[1;31mModuleNotFoundError\u001b[0m: No module named 'mpmath'"
     ]
    }
   ],
   "source": [
    "# Finding the position of a specific number inside pi\n",
    "\n",
    "import math\n",
    "import mpmath\n",
    "\n",
    "# Set the number of digits to generate for pi\n",
    "# Will work fine up to 100m aprox \n",
    "mpmath.mp.dps = 1000\n",
    "\n",
    "# Generate the first 100,000 digits of Pi\n",
    "pi_str = str(mpmath.pi)\n",
    "\n",
    "# Find the position of the first occurrence of '314' in the Pi string\n",
    "pos = pi_str.find('1234')\n",
    "\n",
    "if pos == -1:\n",
    "    print(\"Substring not found in Pi.\")\n",
    "else:\n",
    "    print(\"Substring found in Pi at position\", pos+1)  # Add 1 to convert from 0-indexed to 1-indexed"
   ]
  },
  {
   "cell_type": "code",
   "execution_count": 3,
   "metadata": {},
   "outputs": [
    {
     "ename": "KeyboardInterrupt",
     "evalue": "",
     "output_type": "error",
     "traceback": [
      "\u001b[1;31m---------------------------------------------------------------------------\u001b[0m",
      "\u001b[1;31mKeyboardInterrupt\u001b[0m                         Traceback (most recent call last)",
      "Cell \u001b[1;32mIn[3], line 14\u001b[0m\n\u001b[0;32m     11\u001b[0m             m \u001b[39m+\u001b[39m\u001b[39m=\u001b[39m \u001b[39m1\u001b[39m\n\u001b[0;32m     12\u001b[0m     \u001b[39mreturn\u001b[39;00m \u001b[39m4\u001b[39m \u001b[39m*\u001b[39m m \u001b[39m/\u001b[39m n\n\u001b[1;32m---> 14\u001b[0m estimate_pi(\u001b[39m1000000000\u001b[39;49m)\n",
      "Cell \u001b[1;32mIn[3], line 8\u001b[0m, in \u001b[0;36mestimate_pi\u001b[1;34m(n)\u001b[0m\n\u001b[0;32m      6\u001b[0m m \u001b[39m=\u001b[39m \u001b[39m0\u001b[39m\n\u001b[0;32m      7\u001b[0m \u001b[39mfor\u001b[39;00m i \u001b[39min\u001b[39;00m \u001b[39mrange\u001b[39m(n):\n\u001b[1;32m----> 8\u001b[0m     x \u001b[39m=\u001b[39m random\u001b[39m.\u001b[39;49muniform(\u001b[39m0\u001b[39;49m, \u001b[39m1\u001b[39;49m)\n\u001b[0;32m      9\u001b[0m     y \u001b[39m=\u001b[39m random\u001b[39m.\u001b[39muniform(\u001b[39m0\u001b[39m, \u001b[39m1\u001b[39m)\n\u001b[0;32m     10\u001b[0m     \u001b[39mif\u001b[39;00m x\u001b[39m*\u001b[39mx \u001b[39m+\u001b[39m y\u001b[39m*\u001b[39my \u001b[39m<\u001b[39m\u001b[39m=\u001b[39m \u001b[39m1\u001b[39m:\n",
      "File \u001b[1;32mc:\\Users\\luisg\\miniconda3\\lib\\random.py:548\u001b[0m, in \u001b[0;36mRandom.uniform\u001b[1;34m(self, a, b)\u001b[0m\n\u001b[0;32m    546\u001b[0m \u001b[39mdef\u001b[39;00m \u001b[39muniform\u001b[39m(\u001b[39mself\u001b[39m, a, b):\n\u001b[0;32m    547\u001b[0m     \u001b[39m\"\u001b[39m\u001b[39mGet a random number in the range [a, b) or [a, b] depending on rounding.\u001b[39m\u001b[39m\"\u001b[39m\n\u001b[1;32m--> 548\u001b[0m     \u001b[39mreturn\u001b[39;00m a \u001b[39m+\u001b[39m (b \u001b[39m-\u001b[39m a) \u001b[39m*\u001b[39m \u001b[39mself\u001b[39;49m\u001b[39m.\u001b[39;49mrandom()\n",
      "\u001b[1;31mKeyboardInterrupt\u001b[0m: "
     ]
    }
   ],
   "source": [
    "# Slow estimation of pi\n",
    "\n",
    "import random\n",
    "\n",
    "def estimate_pi(n):\n",
    "    m = 0\n",
    "    for i in range(n):\n",
    "        x = random.uniform(0, 1)\n",
    "        y = random.uniform(0, 1)\n",
    "        if x*x + y*y <= 1:\n",
    "            m += 1\n",
    "    return 4 * m / n\n",
    "\n",
    "estimate_pi(1000000000)"
   ]
  }
 ],
 "metadata": {
  "kernelspec": {
   "display_name": "base",
   "language": "python",
   "name": "python3"
  },
  "language_info": {
   "codemirror_mode": {
    "name": "ipython",
    "version": 3
   },
   "file_extension": ".py",
   "mimetype": "text/x-python",
   "name": "python",
   "nbconvert_exporter": "python",
   "pygments_lexer": "ipython3",
   "version": "3.10.8"
  },
  "orig_nbformat": 4
 },
 "nbformat": 4,
 "nbformat_minor": 2
}
