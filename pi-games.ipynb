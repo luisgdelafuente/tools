{
 "cells": [
  {
   "cell_type": "code",
   "execution_count": 12,
   "metadata": {},
   "outputs": [
    {
     "name": "stdout",
     "output_type": "stream",
     "text": [
      "Substring found in Pi at position 106406\n"
     ]
    }
   ],
   "source": [
    "# Finding the position of a specific number inside pi\n",
    "\n",
    "import math\n",
    "import mpmath\n",
    "\n",
    "# Set the number of digits to generate for pi\n",
    "# Will work fine up to 100m aprox \n",
    "mpmath.mp.dps = 1000000\n",
    "\n",
    "# Generate the first 100,000 digits of Pi\n",
    "pi_str = str(mpmath.pi)\n",
    "\n",
    "# Find the position of the first occurrence of '314' in the Pi string\n",
    "pos = pi_str.find('14150')\n",
    "\n",
    "if pos == -1:\n",
    "    print(\"Substring not found in Pi.\")\n",
    "else:\n",
    "    print(\"Substring found in Pi at position\", pos+1)  # Add 1 to convert from 0-indexed to 1-indexed"
   ]
  },
  {
   "cell_type": "code",
   "execution_count": 14,
   "metadata": {},
   "outputs": [
    {
     "data": {
      "text/plain": [
       "3.142464"
      ]
     },
     "execution_count": 14,
     "metadata": {},
     "output_type": "execute_result"
    }
   ],
   "source": [
    "# Slow estimation of pi\n",
    "\n",
    "import random\n",
    "\n",
    "def estimate_pi(n):\n",
    "    m = 0\n",
    "    for i in range(n):\n",
    "        x = random.uniform(0, 1)\n",
    "        y = random.uniform(0, 1)\n",
    "        if x*x + y*y <= 1:\n",
    "            m += 1\n",
    "    return 4 * m / n\n",
    "\n",
    "estimate_pi(1000000)"
   ]
  }
 ],
 "metadata": {
  "kernelspec": {
   "display_name": "base",
   "language": "python",
   "name": "python3"
  },
  "language_info": {
   "codemirror_mode": {
    "name": "ipython",
    "version": 3
   },
   "file_extension": ".py",
   "mimetype": "text/x-python",
   "name": "python",
   "nbconvert_exporter": "python",
   "pygments_lexer": "ipython3",
   "version": "3.11.4"
  },
  "orig_nbformat": 4
 },
 "nbformat": 4,
 "nbformat_minor": 2
}
